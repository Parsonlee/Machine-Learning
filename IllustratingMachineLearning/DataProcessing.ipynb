{
 "cells": [
  {
   "cell_type": "markdown",
   "source": [
    "# 文本数据的处理"
   ],
   "metadata": {}
  },
  {
   "cell_type": "markdown",
   "source": [
    "在自然语言处理领域，我们需要处理不能直接作为输入的文本数据。本节将介绍两种将文本数据转换为表格数据的方法：\n",
    "* 基于单词出现次数的转换\n",
    "* 另一种是基于tf-idf的转换  "
   ],
   "metadata": {}
  },
  {
   "cell_type": "markdown",
   "source": [
    "下面基于单词出现次数和tf-idf将文本数据转换为表格形式的数据，并应用于机器学习模型。scikit-leam 的Countvectorizer 可以计算单词出现次数，Tfidfvectorizer 可以进行 tfidf 的转换。另外，通过fetch_20newsgroups 获取使用的文本数据，机器学习模型则采用 LinearSVC。"
   ],
   "metadata": {}
  },
  {
   "cell_type": "code",
   "execution_count": null,
   "source": [
    "import numpy as np\n",
    "from sklearn.feature_extraction.text import CountVectorizer, TfidfVectorizer\n",
    "from sklearn.svm import LinearSVC\n",
    "from sklearn.datasets import fetch_20newsgroups\n",
    "\n",
    "categories = ['misc.forsale', 'rec.autos','comp.graphics', 'sci.med']\n",
    "remove = ('headers', 'footers', 'quotes')\n",
    "twenty_train = fetch_20newsgroups(subset='train', \n",
    "                                  remove=remove, \n",
    "                                  categories=categories) # 训练数据\n",
    "twenty_test = fetch_20newsgroups(subset='test',\n",
    "                                 remove=remove, \n",
    "                                 categories=categories) # 验证数据"
   ],
   "outputs": [],
   "metadata": {}
  },
  {
   "cell_type": "markdown",
   "source": [
    "## 基于单词出现次数的转换\n",
    "通过统计单词在文本中的出现次数将文本数据转化为表格数据的方法。  \n",
    "首先将文本数据转换为单词出现次数，然后使用 Linearsvc 学习和预測。得到的模型对验证数据的正确率约为 0.794。也就是说，我们成功地将文本数据转换为了表格形式的数据，并进行了有监督学习"
   ],
   "metadata": {}
  },
  {
   "cell_type": "code",
   "execution_count": null,
   "source": [
    "count_vect = CountVectorizer() # 单词出现次数\n",
    "X_train_counts = count_vect.fit_transform(twenty_train.data)\n",
    "X_test_count = count_vect.transform(twenty_test.data)\n",
    "\n",
    "model = LinearSVC() \n",
    "model.fit(X_train_counts, twenty_train.target)\n",
    "predicted = model.predict(X_test_count)\n",
    "np.mean(predicted == twenty_test.target)"
   ],
   "outputs": [
    {
     "output_type": "stream",
     "name": "stderr",
     "text": []
    },
    {
     "data": {
      "text/plain": [
       "0.7937619350732018"
      ]
     },
     "metadata": {},
     "output_type": "display_data"
    }
   ],
   "metadata": {}
  },
  {
   "cell_type": "markdown",
   "source": [
    "## 基于tf-idf的转换\n",
    "tr-idf是一种基于tf（term frequency，词频）和 idf ( inverse document frequency，逆文本頻率指数）这两个指标来表示单词在文本中的重要度的方法。tf是单词在文本中出现的频率，idf 是一个包含该单词的文本越多，值就越小的值。这两个指标相乘得到的结果叫作tf-idf。"
   ],
   "metadata": {}
  },
  {
   "cell_type": "code",
   "execution_count": null,
   "source": [
    "tf_vec = TfidfVectorizer()  # tf-idf\n",
    "X_train_tfidf = tf_vec.fit_transform(twenty_train.data)\n",
    "X_test_tfidf = tf_vec.transform(twenty_test.data)\n",
    "\n",
    "model = LinearSVC()\n",
    "model.fit(X_train_tfidf, twenty_train.target)\n",
    "predicted = model.predict(X_test_tfidf)\n",
    "np.mean(predicted == twenty_test.target)"
   ],
   "outputs": [
    {
     "data": {
      "text/plain": [
       "0.8701464035646085"
      ]
     },
     "metadata": {},
     "output_type": "display_data"
    }
   ],
   "metadata": {}
  }
 ],
 "metadata": {
  "orig_nbformat": 4,
  "language_info": {
   "name": "python",
   "version": "3.8.11",
   "mimetype": "text/x-python",
   "codemirror_mode": {
    "name": "ipython",
    "version": 3
   },
   "pygments_lexer": "ipython3",
   "nbconvert_exporter": "python",
   "file_extension": ".py"
  },
  "kernelspec": {
   "name": "python3",
   "display_name": "Python 3.8.11 64-bit ('base': conda)"
  },
  "interpreter": {
   "hash": "dca0ade3e726a953b501b15e8e990130d2b7799f14cfd9f4271676035ebe5511"
  }
 },
 "nbformat": 4,
 "nbformat_minor": 2
}