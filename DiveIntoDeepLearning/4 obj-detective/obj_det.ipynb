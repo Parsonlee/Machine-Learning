{
 "cells": [
  {
   "attachments": {},
   "cell_type": "markdown",
   "metadata": {},
   "source": [
    "# 目标检测"
   ]
  },
  {
   "attachments": {},
   "cell_type": "markdown",
   "metadata": {},
   "source": [
    "目标检测模型通常分为两种：\n",
    "1. One-stage detector，如YOLO，SSD。基于anchors生成候选框，直接进行分类以及调整边界框。检测速度更快。\n",
    "\n",
    "2. Two-stage detector，如Faster R-CNN，Mask R-CNN。检测速度较慢。\n",
    "   1. 通过专门模块去生成候选框(RPN)，寻找前景以及调整边界框(基于anchors)\n",
    "   2. 基于之前生成的候选框进行进一步分类以及调整边界框(基于proposals)"
   ]
  }
 ],
 "metadata": {
  "language_info": {
   "name": "python"
  },
  "orig_nbformat": 4
 },
 "nbformat": 4,
 "nbformat_minor": 2
}
