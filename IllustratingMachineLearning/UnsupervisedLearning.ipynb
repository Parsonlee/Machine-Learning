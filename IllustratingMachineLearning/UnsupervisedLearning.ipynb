{
 "cells": [
  {
   "cell_type": "markdown",
   "source": [
    "## PCA(主成分分析)\n",
    "可将多变量数据以主成分简洁的表现出来"
   ],
   "metadata": {}
  },
  {
   "cell_type": "code",
   "execution_count": 4,
   "source": [
    "from sklearn.decomposition import PCA\n",
    "from sklearn.datasets import load_iris\n",
    "\n",
    "data = load_iris()\n",
    "n_components = 2\n",
    "model = PCA(n_components=n_components)\n",
    "model.fit(data.data)\n",
    "print(data.data[:5])  # 变换前的前5条数据\n",
    "print(model.transform(data.data)[:5]) # 变换后的前5条数据"
   ],
   "outputs": [
    {
     "output_type": "stream",
     "name": "stdout",
     "text": [
      "[[5.1 3.5 1.4 0.2]\n",
      " [4.9 3.  1.4 0.2]\n",
      " [4.7 3.2 1.3 0.2]\n",
      " [4.6 3.1 1.5 0.2]\n",
      " [5.  3.6 1.4 0.2]]\n",
      "[[-2.68412563  0.31939725]\n",
      " [-2.71414169 -0.17700123]\n",
      " [-2.88899057 -0.14494943]\n",
      " [-2.74534286 -0.31829898]\n",
      " [-2.72871654  0.32675451]]\n"
     ]
    }
   ],
   "metadata": {}
  },
  {
   "cell_type": "markdown",
   "source": [
    "## NMF(非负矩阵分解)\n",
    "降维，特点是输入数据和输出数据的值都是非负的"
   ],
   "metadata": {}
  },
  {
   "cell_type": "code",
   "execution_count": 9,
   "source": [
    "from sklearn.decomposition import NMF\n",
    "from sklearn.datasets._samples_generator import make_blobs\n",
    "\n",
    "centers = [[5,10,5],[10,4,10],[6,8,8]]\n",
    "V, _ = make_blobs(centers=centers)  # 以centers为中心生成数据\n",
    "n_components = 2  # 降低后的维数\n",
    "model = NMF(n_components=n_components, max_iter=300)\n",
    "model.fit(V)\n",
    "W = model.transform(V)  # 分解后的矩阵\n",
    "H = model.components_\n",
    "print(V.shape)\n",
    "print(W.shape)\n",
    "print(H)"
   ],
   "outputs": [
    {
     "output_type": "stream",
     "name": "stdout",
     "text": [
      "(100, 3)\n",
      "(100, 2)\n",
      "[[7.3987459  1.77558008 7.45835991]\n",
      " [0.         8.90966188 0.81262671]]\n"
     ]
    },
    {
     "output_type": "stream",
     "name": "stderr",
     "text": [
      "/opt/anaconda3/lib/python3.8/site-packages/sklearn/decomposition/_nmf.py:312: FutureWarning: The 'init' value, when 'init=None' and n_components is less than n_samples and n_features, will be changed from 'nndsvd' to 'nndsvda' in 1.1 (renaming of 0.26).\n",
      "  warnings.warn((\"The 'init' value, when 'init=None' and \"\n"
     ]
    }
   ],
   "metadata": {}
  },
  {
   "cell_type": "markdown",
   "source": [
    "## k-means\n",
    "聚类"
   ],
   "metadata": {}
  },
  {
   "cell_type": "code",
   "execution_count": 12,
   "source": [
    "from sklearn.datasets import load_iris\n",
    "from sklearn.cluster import KMeans\n",
    "\n",
    "data = load_iris()\n",
    "cluster = 3\n",
    "model = KMeans(n_clusters=cluster)\n",
    "model.fit(data.data)\n",
    "print(model.labels_)  # 各数据点所属的簇\n",
    "print(model.cluster_centers_) # 通过fit()计算得到的簇重心"
   ],
   "outputs": [
    {
     "output_type": "stream",
     "name": "stdout",
     "text": [
      "[1 1 1 1 1 1 1 1 1 1 1 1 1 1 1 1 1 1 1 1 1 1 1 1 1 1 1 1 1 1 1 1 1 1 1 1 1\n",
      " 1 1 1 1 1 1 1 1 1 1 1 1 1 0 0 2 0 0 0 0 0 0 0 0 0 0 0 0 0 0 0 0 0 0 0 0 0\n",
      " 0 0 0 2 0 0 0 0 0 0 0 0 0 0 0 0 0 0 0 0 0 0 0 0 0 0 2 0 2 2 2 2 0 2 2 2 2\n",
      " 2 2 0 0 2 2 2 2 0 2 0 2 0 2 2 0 0 2 2 2 2 2 0 2 2 2 2 0 2 2 2 0 2 2 2 0 2\n",
      " 2 0]\n",
      "[[5.9016129  2.7483871  4.39354839 1.43387097]\n",
      " [5.006      3.428      1.462      0.246     ]\n",
      " [6.85       3.07368421 5.74210526 2.07105263]]\n"
     ]
    }
   ],
   "metadata": {}
  },
  {
   "cell_type": "markdown",
   "source": [
    "## Gaussian Mixture\n",
    "多个高斯分布的线性组合实现聚类"
   ],
   "metadata": {}
  },
  {
   "cell_type": "code",
   "execution_count": 17,
   "source": [
    "from sklearn.datasets import load_iris\n",
    "from sklearn.mixture import GaussianMixture\n",
    "\n",
    "data = load_iris()\n",
    "n_components = 3  # 高斯分布的数量\n",
    "model = GaussianMixture(n_components=n_components)\n",
    "model.fit(data.data[:4])\n",
    "print(model.predict(data.data[:4])) # 预测类别\n",
    "print()\n",
    "print(model.means_) # 各高斯分布的均值\n",
    "print()\n",
    "print(model.covariances_) # 各高斯分布的方差"
   ],
   "outputs": [
    {
     "output_type": "stream",
     "name": "stdout",
     "text": [
      "[1 0 2 2]\n",
      "\n",
      "[[4.9  3.   1.4  0.2 ]\n",
      " [5.1  3.5  1.4  0.2 ]\n",
      " [4.65 3.15 1.4  0.2 ]]\n",
      "\n",
      "[[[ 1.00000000e-06  7.09974815e-29  3.31321580e-29  4.73316543e-30]\n",
      "  [ 7.09974815e-29  1.00000000e-06  2.07075988e-29  2.95822839e-30]\n",
      "  [ 3.31321580e-29  2.07075988e-29  1.00000000e-06  1.38050658e-30]\n",
      "  [ 4.73316543e-30  2.95822839e-30  1.38050658e-30  1.00000000e-06]]\n",
      "\n",
      " [[ 1.00000000e-06  8.71691300e-29  3.58931712e-29  5.12759588e-30]\n",
      "  [ 8.71691300e-29  1.00000000e-06  2.34686119e-29  3.35265885e-30]\n",
      "  [ 3.58931712e-29  2.34686119e-29  1.00000000e-06  1.38050658e-30]\n",
      "  [ 5.12759588e-30  3.35265885e-30  1.38050658e-30  1.00000000e-06]]\n",
      "\n",
      " [[ 2.50100000e-03  2.50000000e-03 -5.00000000e-03  1.08468374e-30]\n",
      "  [ 2.50000000e-03  2.50100000e-03 -5.00000000e-03  7.39557099e-31]\n",
      "  [-5.00000000e-03 -5.00000000e-03  1.00010000e-02  3.69778549e-31]\n",
      "  [ 1.08468374e-30  7.39557099e-31  3.69778549e-31  1.00000000e-06]]]\n"
     ]
    }
   ],
   "metadata": {}
  },
  {
   "cell_type": "markdown",
   "source": [
    "## LLE(局部线性嵌入)\n",
    "可以将弯曲或扭曲的状态埋藏在高维空间中的结构简单地表示在低维空间中"
   ],
   "metadata": {}
  },
  {
   "cell_type": "code",
   "execution_count": 26,
   "source": [
    "from sklearn.datasets import _samples_generator\n",
    "from sklearn.manifold import LocallyLinearEmbedding\n",
    "\n",
    "data, color = _samples_generator.make_swiss_roll(n_samples=1500)\n",
    "n_neighbor = 12\n",
    "n_components = 2\n",
    "model = LocallyLinearEmbedding(n_neighbors=n_neighbor, n_components=n_components)\n",
    "model.fit(data)\n",
    "print(data.shape)\n",
    "print(data[:5])\n",
    "print(model.transform(data).shape)\n",
    "print(model.transform(data)[:5])"
   ],
   "outputs": [
    {
     "output_type": "stream",
     "name": "stdout",
     "text": [
      "(1500, 3)\n",
      "[[-4.14015679 10.7778069   7.27585219]\n",
      " [ 1.07434604  7.30690446  7.63908285]\n",
      " [ 5.95243107 15.44653911 -1.23338107]\n",
      " [ 9.98893687  5.53289754 -6.6162025 ]\n",
      " [-8.35243855  2.87727039  3.4420624 ]]\n",
      "(1500, 2)\n",
      "[[ 0.01252748  0.00219997]\n",
      " [ 0.01796864  0.01389929]\n",
      " [ 0.02891092 -0.03741342]\n",
      " [-0.02401416  0.00726797]\n",
      " [ 0.00678705  0.02608275]]\n"
     ]
    }
   ],
   "metadata": {}
  },
  {
   "cell_type": "markdown",
   "source": [
    "## t-SNE(t分布随机邻域嵌入)\n",
    "将高维的复杂数据降维为二维或三维的算法，用于低维空间的可视化"
   ],
   "metadata": {}
  },
  {
   "cell_type": "code",
   "execution_count": 42,
   "source": [
    "from sklearn.datasets import load_digits\n",
    "from sklearn.manifold import TSNE\n",
    "\n",
    "data = load_digits()\n",
    "n_components = 2\n",
    "model = TSNE(n_components=n_components)\n",
    "print(data.data.shape)\n",
    "print(model.fit_transform(data.data))"
   ],
   "outputs": [
    {
     "output_type": "stream",
     "name": "stdout",
     "text": [
      "(1797, 64)\n",
      "[[-60.04456     8.190712 ]\n",
      " [ -1.3752689 -22.912495 ]\n",
      " [ 31.29138   -14.407837 ]\n",
      " ...\n",
      " [ 17.838503   -8.484607 ]\n",
      " [  8.271461   21.663279 ]\n",
      " [ 20.568012   -4.3612924]]\n"
     ]
    }
   ],
   "metadata": {}
  }
 ],
 "metadata": {
  "orig_nbformat": 4,
  "language_info": {
   "name": "python",
   "version": "3.8.11",
   "mimetype": "text/x-python",
   "codemirror_mode": {
    "name": "ipython",
    "version": 3
   },
   "pygments_lexer": "ipython3",
   "nbconvert_exporter": "python",
   "file_extension": ".py"
  },
  "kernelspec": {
   "name": "python3",
   "display_name": "Python 3.8.11 64-bit ('base': conda)"
  },
  "interpreter": {
   "hash": "dca0ade3e726a953b501b15e8e990130d2b7799f14cfd9f4271676035ebe5511"
  }
 },
 "nbformat": 4,
 "nbformat_minor": 2
}