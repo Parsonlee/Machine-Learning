{
 "cells": [
  {
   "cell_type": "markdown",
   "source": [
    "# 分类问题的评估方法\n",
    "使用乳腺癌数据集，把目标变量(类别标签数据)反转，将恶性视为1(阳性)，将良性视为0(阴性)，因为在实际治疗中，一般将恶性肿瘤作为检查目标。"
   ],
   "metadata": {}
  },
  {
   "cell_type": "code",
   "execution_count": 45,
   "source": [
    "from sklearn.datasets import load_breast_cancer\n",
    "from sklearn.linear_model import LogisticRegression\n",
    "\n",
    "data = load_breast_cancer()\n",
    "X = data.data\n",
    "y = 1 - data.target # 反转标签的0和1\n",
    "model = LogisticRegression(max_iter=10000)\n",
    "model.fit(X, y)\n",
    "y_pred = model.predict(X)"
   ],
   "outputs": [],
   "metadata": {}
  },
  {
   "cell_type": "markdown",
   "source": [
    "## 混淆矩阵 confusion matrix\n",
    "混淆矩阵以表格的形式将分类结果显示出来，就可以检查哪些标签分类正确哪些分类错误。\n",
    "* 左上角的(True Negative）指的是阴性数据实际被正确预测为阴性的情况（正确判断为良性)。\n",
    "* 右上角的FP(False Positive）指的是阴性数据实际被错误地预测为阳性的情况（良性被判断为恶性)。\n",
    "* 左下角的FN(False Negative)指的是阳性数据实际被错误地预测为阴性的情况（恶性被判断为良性)。\n",
    "* 右下角的TP(True Positive）指的是阳性数据实际被正确预测为阳性的情况（正确判断为恶性)"
   ],
   "metadata": {}
  },
  {
   "cell_type": "code",
   "execution_count": 46,
   "source": [
    "from sklearn.metrics import confusion_matrix\n",
    "cm = confusion_matrix(y, y_pred)\n",
    "print(cm)"
   ],
   "outputs": [
    {
     "output_type": "stream",
     "name": "stdout",
     "text": [
      "[[348   9]\n",
      " [ 15 197]]\n"
     ]
    }
   ],
   "metadata": {}
  },
  {
   "cell_type": "markdown",
   "source": [
    "## 正确率 accuracy\n",
    "指预测正确的结果占总预测结果的比例。"
   ],
   "metadata": {}
  },
  {
   "cell_type": "code",
   "execution_count": 47,
   "source": [
    "from sklearn.metrics import accuracy_score\n",
    "accuracy_score(y, y_pred)"
   ],
   "outputs": [
    {
     "output_type": "execute_result",
     "data": {
      "text/plain": [
       "0.9578207381370826"
      ]
     },
     "metadata": {},
     "execution_count": 47
    }
   ],
   "metadata": {}
  },
  {
   "cell_type": "markdown",
   "source": [
    "## 精确率 precision\n",
    "指在所有被预测为阳性的数据中，被正确预测为阳性的数据所占的比例。"
   ],
   "metadata": {}
  },
  {
   "cell_type": "code",
   "execution_count": 48,
   "source": [
    "from sklearn.metrics import precision_score\n",
    "precision_score(y, y_pred)"
   ],
   "outputs": [
    {
     "output_type": "execute_result",
     "data": {
      "text/plain": [
       "0.9563106796116505"
      ]
     },
     "metadata": {},
     "execution_count": 48
    }
   ],
   "metadata": {}
  },
  {
   "cell_type": "markdown",
   "source": [
    "## 召回率 recall\n",
    "指在实际为阳性的数据中，被正确预测为阳性的数据所占的比例。"
   ],
   "metadata": {}
  },
  {
   "cell_type": "code",
   "execution_count": 49,
   "source": [
    "from sklearn.metrics import recall_score\n",
    "recall_score(y, y_pred)"
   ],
   "outputs": [
    {
     "output_type": "execute_result",
     "data": {
      "text/plain": [
       "0.9292452830188679"
      ]
     },
     "metadata": {},
     "execution_count": 49
    }
   ],
   "metadata": {}
  },
  {
   "cell_type": "markdown",
   "source": [
    "## F值 f1-score\n",
    "指综合反映精确率和召回率两个趋势的指标。"
   ],
   "metadata": {}
  },
  {
   "cell_type": "code",
   "execution_count": 50,
   "source": [
    "from sklearn.metrics import f1_score\n",
    "f1_score(y, y_pred)"
   ],
   "outputs": [
    {
     "output_type": "execute_result",
     "data": {
      "text/plain": [
       "0.9425837320574162"
      ]
     },
     "metadata": {},
     "execution_count": 50
    }
   ],
   "metadata": {}
  },
  {
   "cell_type": "markdown",
   "source": [
    "## 预测概率\n",
    "scikit-learn的predict方法使用的是基于阈值0.5输出的判断结果，为了尽量避免漏掉恶性病例，我们考虑预测概率的第2个元素（即预测恶性的概率），将阈值设为0.1"
   ],
   "metadata": {}
  },
  {
   "cell_type": "code",
   "execution_count": 51,
   "source": [
    "print(model.predict_proba(X))\n",
    "\n",
    "import numpy as np\n",
    "y_pred2 = (model.predict_proba(X)[:, 1] > 0.1).astype(np.int)\n",
    "print(confusion_matrix(y, y_pred2))\n",
    "print(accuracy_score(y, y_pred2))\n",
    "print(recall_score(y, y_pred2))"
   ],
   "outputs": [
    {
     "output_type": "stream",
     "name": "stdout",
     "text": [
      "[[2.95319325e-14 1.00000000e+00]\n",
      " [3.78106635e-06 9.99996219e-01]\n",
      " [5.29694138e-07 9.99999470e-01]\n",
      " ...\n",
      " [2.14170749e-03 9.97858293e-01]\n",
      " [7.48885398e-11 1.00000000e+00]\n",
      " [9.99875075e-01 1.24924796e-04]]\n",
      "[[319  38]\n",
      " [  1 211]]\n",
      "0.9314586994727593\n",
      "0.9952830188679245\n"
     ]
    }
   ],
   "metadata": {}
  },
  {
   "cell_type": "markdown",
   "source": [
    "可以看到右下角FN（实际为1却被错误预测为0的数据减少了），而正确率下降，召回率提高了"
   ],
   "metadata": {}
  },
  {
   "cell_type": "markdown",
   "source": [
    "## ROC曲线和AUC\n",
    "当阳性数据和阴性数据的数量有很大偏差的时候，以上这些指标往往不能很好地发挥效果。在实际工作中，由于这种大偏差的数据而训练出来的模型计算出高正确率的情况经常出现。  \n",
    "应对数据不均衡问题的指标有AUC（曲线下面积），AUC指的是ROC曲线下的面积，这里的ROC曲线横轴为假阳性率(FP的占比)，纵轴为真阳性率(TP的占比)，图中显示了当预测数据为阳性的预测概率的阈值从1开始逐渐下降时，FP和TP之间关系的变化。"
   ],
   "metadata": {}
  },
  {
   "cell_type": "code",
   "execution_count": 52,
   "source": [
    "from sklearn.metrics import roc_curve\n",
    "import matplotlib.pyplot as plt\n",
    "\n",
    "# roc_curve()的输入是目标变量(类别标签数据)和预测概率\n",
    "probas = model.predict_proba(X)\n",
    "fpr, tpr, thresholds = roc_curve(y, probas[:, 1])\n",
    "\n",
    "# 在matplotlib中对fpr和tpr进行可视化\n",
    "plt.style.use('fivethirtyeight')\n",
    "fig, ax = plt.subplots()\n",
    "ax.step(fpr, tpr, 'gray')\n",
    "ax.fill_between(fpr, tpr, 0, color='skyblue', alpha=0.8)\n",
    "ax.set_xlabel('False Positive Rate')\n",
    "ax.set_ylabel('True Positive Rate')\n",
    "plt.show()"
   ],
   "outputs": [
    {
     "output_type": "display_data",
     "data": {
      "image/png": "[encoded data removed]",
      "text/plain": [
       "<Figure size 640x480 with 1 Axes>"
      ]
     },
     "metadata": {}
    }
   ],
   "metadata": {}
  },
  {
   "cell_type": "markdown",
   "source": [
    "ROC曲线下方的面积是AUC。面积最大值为1，最小为0。AUC越接近1，说明精度越高；如果其值在0.5左右，则得到的分类模型和抛硬币随机决定良性恶性没有多大区别。"
   ],
   "metadata": {}
  },
  {
   "cell_type": "code",
   "execution_count": 53,
   "source": [
    "from sklearn.metrics import roc_auc_score\n",
    "roc_auc_score(y, probas[:, 1])"
   ],
   "outputs": [
    {
     "output_type": "execute_result",
     "data": {
      "text/plain": [
       "0.9946884414143016"
      ]
     },
     "metadata": {},
     "execution_count": 53
    }
   ],
   "metadata": {}
  },
  {
   "cell_type": "markdown",
   "source": [
    "# 回归问题的评估方法"
   ],
   "metadata": {}
  },
  {
   "cell_type": "code",
   "execution_count": 55,
   "source": [
    "from sklearn.datasets import load_boston\n",
    "from sklearn.linear_model import LinearRegression\n",
    "\n",
    "data = load_boston()\n",
    "X = data.data[:, [5]]\n",
    "y = data. target\n",
    "model = LinearRegression ()\n",
    "model.fit (X, y)\n",
    "y_pred = model.predict (X)\n",
    "\n",
    "print(model.coef_)  # 斜率\n",
    "print(model.intercept_) # 截距"
   ],
   "outputs": [
    {
     "output_type": "stream",
     "name": "stdout",
     "text": [
      "[9.10210898]\n",
      "-34.67062077643857\n"
     ]
    }
   ],
   "metadata": {}
  },
  {
   "cell_type": "code",
   "execution_count": 56,
   "source": [
    "import matplotlib.pyplot as plt\n",
    "fig, ax = plt.subplots ()\n",
    "ax.scatter (X, y, color='pink', marker='s', label='data set')\n",
    "ax.plot (X, y_pred, color='blue', label='LinearRegression')\n",
    "ax.legend ()\n",
    "plt.show()"
   ],
   "outputs": [
    {
     "output_type": "display_data",
     "data": {
      "image/png": "[encoded data removed]",
      "text/plain": [
       "<Figure size 640x480 with 1 Axes>"
      ]
     },
     "metadata": {}
    }
   ],
   "metadata": {}
  },
  {
   "cell_type": "markdown",
   "source": [
    "## 均方误差 Mean-Square Error\n",
    "均方误差是一个表示实际值和预测值之间存在多大差异的数值。"
   ],
   "metadata": {}
  },
  {
   "cell_type": "code",
   "execution_count": 57,
   "source": [
    "from sklearn.metrics import mean_squared_error\n",
    "mean_squared_error(y, y_pred)"
   ],
   "outputs": [
    {
     "output_type": "execute_result",
     "data": {
      "text/plain": [
       "43.60055177116956"
      ]
     },
     "metadata": {},
     "execution_count": 57
    }
   ],
   "metadata": {}
  },
  {
   "cell_type": "markdown",
   "source": [
    "## 决定系数\n",
    "使用均方误差来表示训练好的模型的预测效果的数值。也就是R^2的系数。  \n",
    "当该系数取最大值1时说明没有误差，而当误差过大也可能数值为负"
   ],
   "metadata": {}
  },
  {
   "cell_type": "code",
   "execution_count": 58,
   "source": [
    "from sklearn.metrics import r2_score\n",
    "r2_score(y, y_pred)"
   ],
   "outputs": [
    {
     "output_type": "execute_result",
     "data": {
      "text/plain": [
       "0.48352545599133423"
      ]
     },
     "metadata": {},
     "execution_count": 58
    }
   ],
   "metadata": {}
  },
  {
   "cell_type": "markdown",
   "source": [
    "前面解释了如何使用均方误差和决定系数两个指标评估回归问题。光看均方误差的数值不能判断精度是好还是坏。如果目标变量的方差较大，均方误差也会变大。而决定系数可以使用不依赖于目标变量方差的取值范围在0和1之间的值表示，所以即使目标变量的数量级不同，也可以格决定系数作为一般的指标使用。"
   ],
   "metadata": {}
  },
  {
   "cell_type": "markdown",
   "source": [
    "## 与其他算法进行比较\n",
    "下面使用SVM核方法进行回归"
   ],
   "metadata": {}
  },
  {
   "cell_type": "code",
   "execution_count": 63,
   "source": [
    "from sklearn.svm import SVR\n",
    "model = SVR(C=0.01, kernel='linear')\n",
    "model.fit(X, y)\n",
    "y_svr_pred = model.predict(X)\n",
    "print(mean_squared_error(y, y_svr_pred))\n",
    "print(r2_score(y, y_svr_pred))\n",
    "\n",
    "fig, ax = plt.subplots()\n",
    "ax.scatter (X, y, color='pink', marker='s', label='data set')\n",
    "ax.plot (X, y_pred, color='blue', label='LinearRegression')\n",
    "ax.plot (X, y_svr_pred, color='red', label='SVR' )\n",
    "ax.legend()\n",
    "plt.show()"
   ],
   "outputs": [
    {
     "output_type": "stream",
     "name": "stdout",
     "text": [
      "72.14197118147209\n",
      "0.14543531775956597\n"
     ]
    },
    {
     "output_type": "display_data",
     "data": {
      "image/png": "[encoded data removed]",
      "text/plain": [
       "<Figure size 640x480 with 1 Axes>"
      ]
     },
     "metadata": {}
    }
   ],
   "metadata": {}
  },
  {
   "cell_type": "code",
   "execution_count": 64,
   "source": [
    "# 改变SVR的参数\n",
    "model = SVR(C=1, kernel='rbf')\n",
    "model.fit(X, y)\n",
    "y_svr_pred = model.predict(X)\n",
    "print(mean_squared_error(y, y_svr_pred))\n",
    "print(r2_score(y, y_svr_pred))"
   ],
   "outputs": [
    {
     "output_type": "stream",
     "name": "stdout",
     "text": [
      "37.40032481992347\n",
      "0.5569708427424378\n"
     ]
    }
   ],
   "metadata": {}
  },
  {
   "cell_type": "markdown",
   "source": [
    "## 过拟合\n",
    "模型对未知数据的预测能力叫做泛化能力，即使对训练数据的误差很小，如果发生过拟合，泛化能力也会很低。"
   ],
   "metadata": {}
  },
  {
   "cell_type": "code",
   "execution_count": 67,
   "source": [
    "train_X, test_X = X[:400], X[400:]\n",
    "train_y, test_y = y[:400], y[400:]\n",
    "model_svr_rbf = SVR(C=1.0, kernel='rbf')\n",
    "model_svr_rbf.fit(train_X, train_y)\n",
    "test_y_pred = model_svr_rbf.predict(test_X)\n",
    "print (mean_squared_error(test_y, test_y_pred))\n",
    "print (r2_score(test_y, test_y_pred))"
   ],
   "outputs": [
    {
     "output_type": "stream",
     "name": "stdout",
     "text": [
      "69.32813164021485\n",
      "-1.4534559402985217\n"
     ]
    }
   ],
   "metadata": {}
  },
  {
   "cell_type": "markdown",
   "source": [
    "## 交叉验证 cross validation"
   ],
   "metadata": {}
  },
  {
   "cell_type": "code",
   "execution_count": 69,
   "source": [
    "from sklearn.ensemble import RandomForestClassifier\n",
    "from sklearn.model_selection import cross_val_score, KFold\n",
    "\n",
    "data = load_breast_cancer()\n",
    "X = data.data\n",
    "y = data.target\n",
    "cv = KFold(5, shuffle=True)\n",
    "model_rfc = RandomForestClassifier()\n",
    "cross_val_score(model_rfc, X, y, cv=cv, scoring='accuracy')\n",
    "# cross_val_score(model_rfc, X, y, cv=cv, scoring='f1')"
   ],
   "outputs": [
    {
     "output_type": "execute_result",
     "data": {
      "text/plain": [
       "array([0.92105263, 0.95614035, 0.98245614, 0.94736842, 0.96460177])"
      ]
     },
     "metadata": {},
     "execution_count": 69
    }
   ],
   "metadata": {}
  },
  {
   "cell_type": "markdown",
   "source": [
    "## 搜索超参数\n",
    "使用网格自动搜索，对已定义好的参数列表的组合进行穷尽"
   ],
   "metadata": {}
  },
  {
   "cell_type": "code",
   "execution_count": 70,
   "source": [
    "data = load_breast_cancer()\n",
    "X = data.data\n",
    "y = 1 - data.target # 反转标签的0和1\n",
    "X = X[:, :10]\n",
    "\n",
    "from sklearn.model_selection import GridSearchCV\n",
    "cv = KFold(5, shuffle=True)\n",
    "param_grid = {'max_depth': [5, 10, 15], 'n_estimators': [10, 20, 30]}\n",
    "model_rfc = RandomForestClassifier()\n",
    "grid_search = GridSearchCV(model_rfc, param_grid, cv=cv, scoring='accuracy')\n",
    "# grid_search = GridSearchCV(model_rfc, param_grid, cv=cv, scoring='f1')\n",
    "grid_search.fit(X, y)\n",
    "\n",
    "# 输出为所得到的最好的得分及相应的超参数值\n",
    "print(grid_search.best_score_)\n",
    "print(grid_search.best_params_)"
   ],
   "outputs": [
    {
     "output_type": "stream",
     "name": "stdout",
     "text": [
      "0.9436733426486571\n",
      "{'max_depth': 10, 'n_estimators': 20}\n"
     ]
    }
   ],
   "metadata": {}
  }
 ],
 "metadata": {
  "orig_nbformat": 4,
  "language_info": {
   "name": "python",
   "version": "3.8.11",
   "mimetype": "text/x-python",
   "codemirror_mode": {
    "name": "ipython",
    "version": 3
   },
   "pygments_lexer": "ipython3",
   "nbconvert_exporter": "python",
   "file_extension": ".py"
  },
  "kernelspec": {
   "name": "python3",
   "display_name": "Python 3.8.11 64-bit ('base': conda)"
  },
  "interpreter": {
   "hash": "dca0ade3e726a953b501b15e8e990130d2b7799f14cfd9f4271676035ebe5511"
  }
 },
 "nbformat": 4,
 "nbformat_minor": 2
}