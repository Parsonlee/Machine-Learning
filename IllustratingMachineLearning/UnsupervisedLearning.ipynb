{
 "cells": [
  {
   "cell_type": "markdown",
   "source": [
    "## PCA(主成分分析)"
   ],
   "metadata": {}
  },
  {
   "cell_type": "code",
   "execution_count": 4,
   "source": [
    "from sklearn.decomposition import PCA\n",
    "from sklearn.datasets import load_iris\n",
    "\n",
    "data = load_iris()\n",
    "n_components = 2\n",
    "model = PCA(n_components=n_components)\n",
    "model.fit(data.data)\n",
    "print(data.data[:5])  # 变换前的前5条数据\n",
    "print(model.transform(data.data)[:5]) # 变换后的前5条数据"
   ],
   "outputs": [
    {
     "output_type": "stream",
     "name": "stdout",
     "text": [
      "[[5.1 3.5 1.4 0.2]\n",
      " [4.9 3.  1.4 0.2]\n",
      " [4.7 3.2 1.3 0.2]\n",
      " [4.6 3.1 1.5 0.2]\n",
      " [5.  3.6 1.4 0.2]]\n",
      "[[-2.68412563  0.31939725]\n",
      " [-2.71414169 -0.17700123]\n",
      " [-2.88899057 -0.14494943]\n",
      " [-2.74534286 -0.31829898]\n",
      " [-2.72871654  0.32675451]]\n"
     ]
    }
   ],
   "metadata": {}
  },
  {
   "cell_type": "markdown",
   "source": [
    "## NMF(非负矩阵分解)"
   ],
   "metadata": {}
  },
  {
   "cell_type": "code",
   "execution_count": 9,
   "source": [
    "from sklearn.decomposition import NMF\n",
    "from sklearn.datasets._samples_generator import make_blobs\n",
    "\n",
    "centers = [[5,10,5],[10,4,10],[6,8,8]]\n",
    "V, _ = make_blobs(centers=centers)  # 以centers为中心生成数据\n",
    "n_components = 2  # 降低后的维数\n",
    "model = NMF(n_components=n_components, max_iter=300)\n",
    "model.fit(V)\n",
    "W = model.transform(V)  # 分解后的矩阵\n",
    "H = model.components_\n",
    "print(V.shape)\n",
    "print(W.shape)\n",
    "print(H)"
   ],
   "outputs": [
    {
     "output_type": "stream",
     "name": "stdout",
     "text": [
      "(100, 3)\n",
      "(100, 2)\n",
      "[[7.3987459  1.77558008 7.45835991]\n",
      " [0.         8.90966188 0.81262671]]\n"
     ]
    },
    {
     "output_type": "stream",
     "name": "stderr",
     "text": [
      "/opt/anaconda3/lib/python3.8/site-packages/sklearn/decomposition/_nmf.py:312: FutureWarning: The 'init' value, when 'init=None' and n_components is less than n_samples and n_features, will be changed from 'nndsvd' to 'nndsvda' in 1.1 (renaming of 0.26).\n",
      "  warnings.warn((\"The 'init' value, when 'init=None' and \"\n"
     ]
    }
   ],
   "metadata": {}
  }
 ],
 "metadata": {
  "orig_nbformat": 4,
  "language_info": {
   "name": "python",
   "version": "3.8.11",
   "mimetype": "text/x-python",
   "codemirror_mode": {
    "name": "ipython",
    "version": 3
   },
   "pygments_lexer": "ipython3",
   "nbconvert_exporter": "python",
   "file_extension": ".py"
  },
  "kernelspec": {
   "name": "python3",
   "display_name": "Python 3.8.11 64-bit ('base': conda)"
  },
  "interpreter": {
   "hash": "dca0ade3e726a953b501b15e8e990130d2b7799f14cfd9f4271676035ebe5511"
  }
 },
 "nbformat": 4,
 "nbformat_minor": 2
}