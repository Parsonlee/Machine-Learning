{
  "cells": [
    {
      "cell_type": "markdown",
      "metadata": {
        "id": "v7v8p5Pwm9cV"
      },
      "source": [
        "# Self-attention\n",
        "\n",
        "- Classify the speakers of given features.\n",
        "- Main goal: Learn how to use transformer.\n",
        "\n",
        "kaggle: https://www.kaggle.com/competitions/ml2021spring-hw4"
      ]
    },
    {
      "cell_type": "markdown",
      "metadata": {
        "id": "eAuA4HRDnh77"
      },
      "source": [
        "## Data"
      ]
    },
    {
      "cell_type": "markdown",
      "metadata": {
        "id": "JfMi5wAYm9cZ"
      },
      "source": [
        "## Dataset\n",
        "- Original dataset is [Voxceleb1](https://www.robots.ox.ac.uk/~vgg/data/voxceleb/).\n",
        "- The [license](https://creativecommons.org/licenses/by/4.0/) and [complete version](https://www.robots.ox.ac.uk/~vgg/data/voxceleb/files/license.txt) of Voxceleb1.\n",
        "- We randomly select 600 speakers from Voxceleb1.\n",
        "- Then preprocess the raw waveforms into mel-spectrograms.\n",
        "\n",
        "- Args:\n",
        "  - data_dir: The path to the data directory.\n",
        "  - metadata_path: The path to the metadata.\n",
        "  - segment_len: The length of audio segment for training. \n",
        "- The architecture of data directory \\\\\n",
        "  - data directory \\\\\n",
        "  |---- metadata.json \\\\\n",
        "  |---- testdata.json \\\\\n",
        "  |---- mapping.json \\\\\n",
        "  |---- uttr-{random string}.pt \\\\\n",
        "\n",
        "- The information in metadata\n",
        "  - \"n_mels\": The dimention of mel-spectrogram.\n",
        "  - \"speakers\": A dictionary. \n",
        "    - Key: speaker ids.\n",
        "    - value: \"feature_path\" and \"mel_len\"\n",
        "\n",
        "\n",
        "For efficiency, we segment the mel-spectrograms into segments in the traing step."
      ]
    },
    {
      "cell_type": "code",
      "execution_count": null,
      "metadata": {
        "id": "d0ng8gotm9ca"
      },
      "outputs": [],
      "source": [
        "import os\n",
        "import json\n",
        "import torch\n",
        "import random\n",
        "from pathlib import Path\n",
        "from torch.utils.data import Dataset\n",
        " \n",
        "class myDataset(Dataset):\n",
        "  def __init__(self, data_dir, segment_len=128):\n",
        "    self.data_dir = data_dir\n",
        "    self.segment_len = segment_len\n",
        " \n",
        "    # Load the mapping from speaker neme to their corresponding id. \n",
        "    mapping_path = Path(data_dir) / \"mapping.json\"\n",
        "    mapping = json.load(mapping_path.open())\n",
        "    self.speaker2id = mapping[\"speaker2id\"]\n",
        " \n",
        "    # Load metadata of training data.\n",
        "    metadata_path = Path(data_dir) / \"metadata.json\"\n",
        "    metadata = json.load(open(metadata_path))[\"speakers\"]\n",
        " \n",
        "    # Get the total number of speaker.\n",
        "    self.speaker_num = len(metadata.keys())\n",
        "    self.data = []\n",
        "    for speaker in metadata.keys():\n",
        "      for utterances in metadata[speaker]:\n",
        "        self.data.append([utterances[\"feature_path\"], self.speaker2id[speaker]])\n",
        " \n",
        "  def __len__(self):\n",
        "    return len(self.data)\n",
        " \n",
        "  def __getitem__(self, index):\n",
        "    feat_path, speaker = self.data[index]\n",
        "    # Load preprocessed mel-spectrogram.\n",
        "    mel = torch.load(os.path.join(self.data_dir, feat_path))\n",
        " \n",
        "    # Segmemt mel-spectrogram into \"segment_len\" frames.\n",
        "    if len(mel) > self.segment_len:\n",
        "      # Randomly get the starting point of the segment.\n",
        "      start = random.randint(0, len(mel) - self.segment_len)\n",
        "      # Get a segment with \"segment_len\" frames.\n",
        "      mel = torch.FloatTensor(mel[start:start+self.segment_len])\n",
        "    else:\n",
        "      mel = torch.FloatTensor(mel)\n",
        "    # Turn the speaker id into long for computing loss later.\n",
        "    speaker = torch.FloatTensor([speaker]).long()\n",
        "    return mel, speaker\n",
        " \n",
        "  def get_speaker_number(self):\n",
        "    return self.speaker_num"
      ]
    },
    {
      "cell_type": "markdown",
      "metadata": {
        "id": "VcB-INtcm9cd"
      },
      "source": [
        "## Dataloader\n"
      ]
    },
    {
      "cell_type": "code",
      "execution_count": null,
      "metadata": {
        "id": "6-_4rlWSm9cd"
      },
      "outputs": [],
      "source": [
        "from torch.utils.data import DataLoader, random_split\n",
        "from torch.nn.utils.rnn import pad_sequence\n",
        "\n",
        "def collate_batch(batch):\n",
        "    mel, speaker = zip(*batch)\n",
        "    mel = pad_sequence(mel, batch_first=True, padding_value=-20)\n",
        "    # mel: (batch size, length, 40)\n",
        "    return mel, torch.FloatTensor(speaker).long()\n",
        "\n",
        "def get_dataloader(data_dir, batch_size, n_workers):\n",
        "    dataset = myDataset(data_dir)\n",
        "    speaker_num = dataset.get_speaker_number()\n",
        "    # split dataset into training set and validation set\n",
        "    trainlen = int(0.9 * len(dataset))\n",
        "    lengths = [trainlen, len(dataset) - trainlen]\n",
        "    trainset, validset = random_split(dataset, lengths)\n",
        "\n",
        "    train_loader = DataLoader(trainset, batch_size=batch_size, shuffle=True, drop_last=True, num_workers=n_workers, collate_fn=collate_batch, pin_memory=True)\n",
        "    valid_loader = DataLoader(validset, batch_size=batch_size, drop_last=True, num_workers=n_workers, collate_fn=collate_batch, pin_memory=True)\n",
        "\n",
        "    return train_loader, valid_loader, speaker_num"
      ]
    },
    {
      "cell_type": "markdown",
      "metadata": {
        "id": "rAclstu5m9ce"
      },
      "source": [
        "## Model\n",
        "- TransformerEncoderLayer:\n",
        "  - Base transformer encoder layer in [Attention Is All You Need](https://arxiv.org/abs/1706.03762)\n",
        "  - Parameters:\n",
        "    - d_model: the number of expected features of the input (required).\n",
        "\n",
        "    - nhead: the number of heads of the multiheadattention models (required).\n",
        "\n",
        "    - dim_feedforward: the dimension of the feedforward network model (default=2048).\n",
        "\n",
        "    - dropout: the dropout value (default=0.1).\n",
        "\n",
        "    - activation: the activation function of intermediate layer, relu or gelu (default=relu).\n",
        "\n",
        "- TransformerEncoder:\n",
        "  - TransformerEncoder is a stack of N transformer encoder layers\n",
        "  - Parameters:\n",
        "    - encoder_layer: an instance of the TransformerEncoderLayer() class (required).\n",
        "\n",
        "    - num_layers: the number of sub-encoder-layers in the encoder (required).\n",
        "\n",
        "    - norm: the layer normalization component (optional)."
      ]
    },
    {
      "cell_type": "code",
      "execution_count": null,
      "metadata": {
        "id": "sEshAggSm9ce"
      },
      "outputs": [],
      "source": [
        "import torch.nn as nn\n",
        "import torch.nn.functional as F\n",
        "\n",
        "class Classifier(nn.Module):\n",
        "    def __init__(self, d_model=80, n_spks=600, dropout=0.1):\n",
        "        super().__init__()\n",
        "        # project the dimension of features from that of input into d_model\n",
        "        self.prenet = nn.Linear(40, d_model)\n",
        "        self.encoder_layer = nn.TransformerEncoderLayer(d_model=d_model, nhead=2, dim_feedforward=256)\n",
        "        # self.encoder = nn.TransformerEncoder(self.encoder_layer, num_layers=2)\n",
        "\n",
        "        # project the dimension of features from d_model into speaker nums\n",
        "        self.pred_layer = nn.Linear(d_model, n_spks)\n",
        "\n",
        "    def forward(self, mels):\n",
        "        \"\"\"\n",
        "        args:\n",
        "            mels: (batch size, length, 40)\n",
        "        returns:\n",
        "            out: (batch size, n_spks)\n",
        "        \"\"\"\n",
        "        # batch size, length, d_model\n",
        "        out = self.prenet(mels)\n",
        "        # length, batch size, d_model\n",
        "        out = out.permute(1, 0, 2)\n",
        "        # encoder layer expect features in the shape of (length, batch size, d_model)\n",
        "        out = self.encoder_layer(out)\n",
        "        # batch size, length, d_model\n",
        "        out = out.transpose(0, 1)\n",
        "        # mean pooling(dimension reduction)\n",
        "        stats = out.mean(dim=1)\n",
        "\n",
        "        # out: batch n_spks\n",
        "        out = self.pred_layer(stats)\n",
        "        return out"
      ]
    },
    {
      "cell_type": "markdown",
      "metadata": {
        "id": "GtG_P5tfm9cf"
      },
      "source": [
        "## Learning rate schedule\n",
        "- For transformer architecture, the design of learning rate schedule is different from that of CNN.\n",
        "- Previous works show that the warmup of learning rate is useful for training models with transformer architectures.\n",
        "- The warmup schedule\n",
        "  - Set learning rate to 0 in the beginning.\n",
        "  - The learning rate increases linearly from 0 to initial learning rate during warmup period."
      ]
    },
    {
      "cell_type": "code",
      "execution_count": null,
      "metadata": {
        "id": "uxYJ5uIEm9cg"
      },
      "outputs": [],
      "source": [
        "import math\n",
        "from torch.optim import Optimizer\n",
        "from torch.optim.lr_scheduler import LambdaLR\n",
        "\n",
        "def get_cosine_schedule_with_warmup(\n",
        "    optimizer: Optimizer,\n",
        "    num_warmup_step: int,\n",
        "    num_training_steps: int,\n",
        "    num_cycles: float=0.5,\n",
        "    last_epoch: int=-1\n",
        "):\n",
        "    \"\"\"\n",
        "    Create a schedule with a learning rate that decreases following the values of the cosine function between the\n",
        "    initial lr set in the optimizer to 0, after a warmup period during which it increases linearly between 0 and the\n",
        "    initial lr set in the optimizer.\n",
        "\n",
        "    Args:\n",
        "        optimizer (:class:`~torch.optim.Optimizer`):\n",
        "            The optimizer for which to schedule the learning rate.\n",
        "        num_warmup_steps (:obj:`int`):\n",
        "            The number of steps for the warmup phase.\n",
        "        num_training_steps (:obj:`int`):\n",
        "            The total number of training steps.\n",
        "        num_cycles (:obj:`float`, `optional`, defaults to 0.5):\n",
        "            The number of waves in the cosine schedule (the defaults is to just decrease from the max value to 0 following a half-cosine).\n",
        "        last_epoch (:obj:`int`, `optional`, defaults to -1):\n",
        "            The index of the last epoch when resuming training.\n",
        "\n",
        "    Return:\n",
        "        :obj:`torch.optim.lr_scheduler.LambdaLR` with the appropriate schedule.\n",
        "    \"\"\"\n",
        "    def lr_lambda(current_step):\n",
        "        # Warmup\n",
        "        if current_step < num_warmup_step:\n",
        "            return float(current_step) / float(max(1, num_warmup_step))\n",
        "        # decrease\n",
        "        progress = float(current_step - num_warmup_step) / float(max(1, num_training_steps - num_warmup_step))\n",
        "        return max(0.0, 0.5 * (1.0 + math.cos(math.pi * float(num_cycles) * 2.0 * progress)))\n",
        "\n",
        "    return LambdaLR(optimizer, lr_lambda, last_epoch)"
      ]
    },
    {
      "cell_type": "markdown",
      "metadata": {
        "id": "LgurPjYUm9cg"
      },
      "source": [
        "## Model Function"
      ]
    },
    {
      "cell_type": "code",
      "execution_count": null,
      "metadata": {
        "id": "1gTfa7Tim9ch"
      },
      "outputs": [],
      "source": [
        "def model_fn(batch, model, criterion, device):\n",
        "    mels, labels = batch\n",
        "    mels = mels.to(device)\n",
        "    labels = labels.to(device)\n",
        "\n",
        "    outs = model(mels)\n",
        "    loss = criterion(outs, labels)\n",
        "    # get the speaker id with highest probability\n",
        "    preds = outs.argmax(1)\n",
        "    # compute accuracy\n",
        "    accuracy = torch.mean((preds == labels).float())\n",
        "\n",
        "    return loss, accuracy"
      ]
    },
    {
      "cell_type": "markdown",
      "metadata": {
        "id": "hzdgEaIum9ch"
      },
      "source": [
        "## Validate"
      ]
    },
    {
      "cell_type": "code",
      "execution_count": null,
      "metadata": {
        "id": "063y5d4cm9ch"
      },
      "outputs": [],
      "source": [
        "from tqdm import tqdm\n",
        "\n",
        "def valid(dataloader, model, criterion, device):\n",
        "    model.eval()\n",
        "    running_loss = 0.0\n",
        "    running_acc = 0.0\n",
        "    pbar = tqdm(total=len(dataloader.dataset), ncols=0, desc=\"Valid\", unit=\"uttr\")\n",
        "\n",
        "    for i, batch in enumerate(dataloader):\n",
        "        with torch.no_grad():\n",
        "            loss, acc = model_fn(batch, model, criterion, device)\n",
        "            running_loss += loss.item()\n",
        "            running_acc += acc.item()\n",
        "\n",
        "        pbar.update(dataloader.batch_size)\n",
        "        pbar.set_postfix(\n",
        "            loss=f\"{running_loss / (i+1):.2f}\",\n",
        "            accuracy=f\"{running_acc / (i+1):.2f}\",\n",
        "        )\n",
        "\n",
        "    pbar.close()\n",
        "    model.train()\n",
        "    \n",
        "    return running_acc / len(dataloader)"
      ]
    },
    {
      "cell_type": "markdown",
      "metadata": {
        "id": "W3Izizejm9ci"
      },
      "source": [
        "## Main Function"
      ]
    },
    {
      "cell_type": "code",
      "execution_count": 11,
      "metadata": {
        "id": "FveyBgqKm9ci",
        "outputId": "cb5ca7f1-bdfa-4002-852c-34fc08c633d1",
        "colab": {
          "base_uri": "https://localhost:8080/"
        }
      },
      "outputs": [
        {
          "output_type": "stream",
          "name": "stderr",
          "text": [
            "\rTrain:  78% 1562/2000 [02:21<00:39, 11.03 step/s, accuracy=0.62, loss=1.84, step=13562]"
          ]
        },
        {
          "output_type": "stream",
          "name": "stdout",
          "text": [
            "[Info]: Use cuda now!\n"
          ]
        },
        {
          "output_type": "stream",
          "name": "stderr",
          "text": [
            "\n",
            "/usr/local/lib/python3.7/dist-packages/torch/utils/data/dataloader.py:481: UserWarning: This DataLoader will create 8 worker processes in total. Our suggested max number of worker in current system is 2, which is smaller than what this DataLoader is going to create. Please be aware that excessive worker creation might get DataLoader running slow or even freeze, lower the worker number to avoid potential slowness/freeze if necessary.\n",
            "  cpuset_checked))\n"
          ]
        },
        {
          "output_type": "stream",
          "name": "stdout",
          "text": [
            "[Info]: Finish loading data!\n",
            "[Info]: Finish creating model!\n"
          ]
        },
        {
          "output_type": "stream",
          "name": "stderr",
          "text": [
            "Train: 100% 2000/2000 [02:37<00:00, 12.69 step/s, accuracy=0.28, loss=3.26, step=2000]\n",
            "Valid: 100% 6944/6944 [00:23<00:00, 294.31uttr/s, accuracy=0.24, loss=3.74]\n",
            "Train: 100% 2000/2000 [02:56<00:00, 11.34 step/s, accuracy=0.44, loss=2.66, step=4000]\n",
            "Valid: 100% 6944/6944 [00:22<00:00, 312.28uttr/s, accuracy=0.36, loss=2.95]\n",
            "Train: 100% 2000/2000 [02:57<00:00, 11.27 step/s, accuracy=0.41, loss=2.18, step=6000]\n",
            "Valid: 100% 6944/6944 [00:22<00:00, 314.61uttr/s, accuracy=0.43, loss=2.59]\n",
            "Train: 100% 2000/2000 [02:57<00:00, 11.28 step/s, accuracy=0.50, loss=2.08, step=8000]\n",
            "Valid: 100% 6944/6944 [00:23<00:00, 300.09uttr/s, accuracy=0.47, loss=2.36]\n",
            "Train: 100% 2000/2000 [02:55<00:00, 11.40 step/s, accuracy=0.59, loss=1.75, step=1e+4]\n",
            "Valid: 100% 6944/6944 [00:22<00:00, 302.20uttr/s, accuracy=0.50, loss=2.21]\n",
            "\n",
            "Train:   0% 0/2000 [00:00<?, ? step/s]\n",
            "Train:   0% 8/2000 [00:00<01:00, 32.73 step/s, accuracy=0.31, loss=2.44, step=1e+4]"
          ]
        },
        {
          "output_type": "stream",
          "name": "stdout",
          "text": [
            "Step 10000, best model saved. (accuracy=0.5024)\n"
          ]
        },
        {
          "output_type": "stream",
          "name": "stderr",
          "text": [
            "Train: 100% 2000/2000 [02:54<00:00, 11.44 step/s, accuracy=0.69, loss=1.76, step=12000]\n",
            "Valid: 100% 6944/6944 [00:22<00:00, 302.33uttr/s, accuracy=0.53, loss=2.07]\n",
            "Train: 100% 2000/2000 [02:52<00:00, 11.57 step/s, accuracy=0.53, loss=1.76, step=14000]\n",
            "Valid: 100% 6944/6944 [00:23<00:00, 297.37uttr/s, accuracy=0.53, loss=2.07]\n",
            "Train: 100% 2000/2000 [02:53<00:00, 11.53 step/s, accuracy=0.47, loss=1.55, step=16000]\n",
            "Valid: 100% 6944/6944 [00:23<00:00, 293.08uttr/s, accuracy=0.56, loss=1.94]\n",
            "Train: 100% 2000/2000 [02:55<00:00, 11.37 step/s, accuracy=0.66, loss=1.81, step=18000]\n",
            "Valid: 100% 6944/6944 [00:23<00:00, 293.10uttr/s, accuracy=0.58, loss=1.85]\n",
            "Train: 100% 2000/2000 [02:51<00:00, 11.64 step/s, accuracy=0.69, loss=1.45, step=2e+4]\n",
            "Valid: 100% 6944/6944 [00:23<00:00, 299.35uttr/s, accuracy=0.60, loss=1.75]\n",
            "\n",
            "Train:   0% 0/2000 [00:00<?, ? step/s]\n",
            "Train:   0% 8/2000 [00:00<01:10, 28.26 step/s, accuracy=0.59, loss=2.24, step=2e+4]"
          ]
        },
        {
          "output_type": "stream",
          "name": "stdout",
          "text": [
            "Step 20000, best model saved. (accuracy=0.5965)\n"
          ]
        },
        {
          "output_type": "stream",
          "name": "stderr",
          "text": [
            "Train: 100% 2000/2000 [02:52<00:00, 11.58 step/s, accuracy=0.56, loss=1.33, step=22000]\n",
            "Valid: 100% 6944/6944 [00:23<00:00, 300.17uttr/s, accuracy=0.60, loss=1.72]\n",
            "Train: 100% 2000/2000 [02:50<00:00, 11.71 step/s, accuracy=0.75, loss=1.57, step=24000]\n",
            "Valid: 100% 6944/6944 [00:23<00:00, 301.34uttr/s, accuracy=0.62, loss=1.65]\n",
            "Train: 100% 2000/2000 [02:53<00:00, 11.53 step/s, accuracy=0.66, loss=1.20, step=26000]\n",
            "Valid: 100% 6944/6944 [00:22<00:00, 308.10uttr/s, accuracy=0.62, loss=1.63]\n",
            "Train: 100% 2000/2000 [02:51<00:00, 11.64 step/s, accuracy=0.69, loss=1.14, step=28000]\n",
            "Valid: 100% 6944/6944 [00:22<00:00, 311.49uttr/s, accuracy=0.63, loss=1.61]\n",
            "Train: 100% 2000/2000 [02:50<00:00, 11.73 step/s, accuracy=0.75, loss=1.00, step=3e+4]\n",
            "Valid: 100% 6944/6944 [00:21<00:00, 323.63uttr/s, accuracy=0.64, loss=1.54]\n",
            "\n",
            "Train:   0% 0/2000 [00:00<?, ? step/s]\n",
            "Train:   0% 9/2000 [00:00<00:55, 35.94 step/s, accuracy=0.69, loss=1.09, step=3e+4]"
          ]
        },
        {
          "output_type": "stream",
          "name": "stdout",
          "text": [
            "Step 30000, best model saved. (accuracy=0.6384)\n"
          ]
        },
        {
          "output_type": "stream",
          "name": "stderr",
          "text": [
            "Train: 100% 2000/2000 [02:50<00:00, 11.74 step/s, accuracy=0.69, loss=1.55, step=32000]\n",
            "Valid: 100% 6944/6944 [00:19<00:00, 351.95uttr/s, accuracy=0.65, loss=1.51]\n",
            "Train: 100% 2000/2000 [02:50<00:00, 11.72 step/s, accuracy=0.81, loss=0.71, step=34000]\n",
            "Valid: 100% 6944/6944 [00:20<00:00, 343.21uttr/s, accuracy=0.66, loss=1.47]\n",
            "Train: 100% 2000/2000 [02:52<00:00, 11.61 step/s, accuracy=0.69, loss=1.72, step=36000]\n",
            "Valid: 100% 6944/6944 [00:21<00:00, 323.74uttr/s, accuracy=0.66, loss=1.46]\n",
            "Train: 100% 2000/2000 [02:49<00:00, 11.77 step/s, accuracy=0.69, loss=1.28, step=38000]\n",
            "Valid: 100% 6944/6944 [00:22<00:00, 307.94uttr/s, accuracy=0.68, loss=1.40]\n",
            "Train: 100% 2000/2000 [02:47<00:00, 11.95 step/s, accuracy=0.72, loss=0.90, step=4e+4]\n",
            "Valid: 100% 6944/6944 [00:22<00:00, 312.09uttr/s, accuracy=0.67, loss=1.41]\n",
            "\n",
            "Train:   0% 0/2000 [00:00<?, ? step/s]\n",
            "Train:   0% 9/2000 [00:00<00:55, 36.02 step/s, accuracy=0.59, loss=1.18, step=4e+4]"
          ]
        },
        {
          "output_type": "stream",
          "name": "stdout",
          "text": [
            "Step 40000, best model saved. (accuracy=0.6767)\n"
          ]
        },
        {
          "output_type": "stream",
          "name": "stderr",
          "text": [
            "Train: 100% 2000/2000 [02:49<00:00, 11.80 step/s, accuracy=0.81, loss=1.05, step=42000]\n",
            "Valid: 100% 6944/6944 [00:22<00:00, 313.14uttr/s, accuracy=0.67, loss=1.37]\n",
            "Train: 100% 2000/2000 [02:46<00:00, 12.04 step/s, accuracy=0.72, loss=1.07, step=44000]\n",
            "Valid: 100% 6944/6944 [00:23<00:00, 301.28uttr/s, accuracy=0.70, loss=1.31]\n",
            "Train: 100% 2000/2000 [02:47<00:00, 11.95 step/s, accuracy=0.78, loss=0.82, step=46000]\n",
            "Valid: 100% 6944/6944 [00:22<00:00, 302.75uttr/s, accuracy=0.69, loss=1.34]\n",
            "Train: 100% 2000/2000 [02:46<00:00, 11.98 step/s, accuracy=0.81, loss=0.88, step=48000]\n",
            "Valid: 100% 6944/6944 [00:23<00:00, 296.59uttr/s, accuracy=0.70, loss=1.30]\n",
            "Train: 100% 2000/2000 [02:45<00:00, 12.05 step/s, accuracy=0.81, loss=0.91, step=5e+4]\n",
            "Valid: 100% 6944/6944 [00:23<00:00, 289.92uttr/s, accuracy=0.70, loss=1.30]\n",
            "\n",
            "Train:   0% 0/2000 [00:00<?, ? step/s]\n",
            "Train:   0% 9/2000 [00:00<00:52, 38.16 step/s, accuracy=0.75, loss=1.67, step=5e+4]"
          ]
        },
        {
          "output_type": "stream",
          "name": "stdout",
          "text": [
            "Step 50000, best model saved. (accuracy=0.6982)\n"
          ]
        },
        {
          "output_type": "stream",
          "name": "stderr",
          "text": [
            "Train: 100% 2000/2000 [02:49<00:00, 11.77 step/s, accuracy=0.81, loss=1.15, step=52000]\n",
            "Valid: 100% 6944/6944 [00:23<00:00, 291.72uttr/s, accuracy=0.70, loss=1.26]\n",
            "Train: 100% 2000/2000 [02:48<00:00, 11.84 step/s, accuracy=0.84, loss=1.05, step=54000]\n",
            "Valid: 100% 6944/6944 [00:23<00:00, 294.83uttr/s, accuracy=0.71, loss=1.23]\n",
            "Train: 100% 2000/2000 [02:51<00:00, 11.64 step/s, accuracy=0.78, loss=0.84, step=56000]\n",
            "Valid: 100% 6944/6944 [00:23<00:00, 300.58uttr/s, accuracy=0.71, loss=1.23]\n",
            "Train: 100% 2000/2000 [02:53<00:00, 11.52 step/s, accuracy=0.69, loss=1.25, step=58000]\n",
            "Valid: 100% 6944/6944 [00:23<00:00, 292.04uttr/s, accuracy=0.71, loss=1.23]\n",
            "Train: 100% 2000/2000 [03:03<00:00, 10.91 step/s, accuracy=0.78, loss=0.75, step=6e+4]\n",
            "Valid: 100% 6944/6944 [00:23<00:00, 294.98uttr/s, accuracy=0.71, loss=1.23]\n",
            "\n",
            "Train:   0% 0/2000 [00:00<?, ? step/s]\n",
            "Train:   0% 9/2000 [00:00<00:50, 39.51 step/s, accuracy=0.75, loss=0.94, step=6e+4]"
          ]
        },
        {
          "output_type": "stream",
          "name": "stdout",
          "text": [
            "Step 60000, best model saved. (accuracy=0.7136)\n"
          ]
        },
        {
          "output_type": "stream",
          "name": "stderr",
          "text": [
            "Train: 100% 2000/2000 [03:05<00:00, 10.79 step/s, accuracy=0.88, loss=0.75, step=62000]\n",
            "Valid: 100% 6944/6944 [00:22<00:00, 304.23uttr/s, accuracy=0.72, loss=1.19]\n",
            "Train: 100% 2000/2000 [03:00<00:00, 11.10 step/s, accuracy=0.88, loss=0.49, step=64000]\n",
            "Valid: 100% 6944/6944 [00:23<00:00, 301.39uttr/s, accuracy=0.72, loss=1.17]\n",
            "Train: 100% 2000/2000 [02:59<00:00, 11.17 step/s, accuracy=0.66, loss=1.21, step=66000]\n",
            "Valid: 100% 6944/6944 [00:22<00:00, 307.33uttr/s, accuracy=0.72, loss=1.20]\n",
            "Train: 100% 2000/2000 [02:58<00:00, 11.18 step/s, accuracy=0.84, loss=1.05, step=68000]\n",
            "Valid: 100% 6944/6944 [00:22<00:00, 304.87uttr/s, accuracy=0.72, loss=1.20]\n",
            "Train: 100% 2000/2000 [02:59<00:00, 11.15 step/s, accuracy=0.75, loss=1.04, step=7e+4]\n",
            "Valid: 100% 6944/6944 [00:22<00:00, 311.12uttr/s, accuracy=0.72, loss=1.20]\n",
            "\n",
            "Train:   0% 0/2000 [00:00<?, ? step/s]\n",
            "Train:   0% 0/2000 [00:00<?, ? step/s]\n"
          ]
        },
        {
          "output_type": "stream",
          "name": "stdout",
          "text": [
            "Step 70000, best model saved. (accuracy=0.7244)\n"
          ]
        }
      ],
      "source": [
        "from torch.optim import AdamW\n",
        "\n",
        "def parse_args():\n",
        "    config = {\n",
        "        \"data_dir\": \"./Dataset\",\n",
        "        \"save_path\": \"model.ckpt\",\n",
        "        \"batch_size\": 32,\n",
        "        \"n_workers\": 8,\n",
        "        \"valid_steps\": 2000,\n",
        "        \"warmup_steps\": 1000,\n",
        "        \"save_steps\": 10000,\n",
        "        \"total_steps\": 70000,\n",
        "    }\n",
        "    return config\n",
        "\n",
        "def main(\n",
        "    data_dir, save_path, batch_size, n_workers, valid_steps, warmup_steps, total_steps, save_steps\n",
        "):\n",
        "  device = torch.device(\"cuda\" if torch.cuda.is_available() else \"cpu\")\n",
        "  print(f\"[Info]: Use {device} now!\")\n",
        "\n",
        "  train_loader, valid_loader, speaker_num = get_dataloader(data_dir, batch_size, n_workers)\n",
        "  train_iterator = iter(train_loader)\n",
        "  print(f\"[Info]: Finish loading data!\",flush = True)\n",
        "\n",
        "  model = Classifier(n_spks=speaker_num).to(device)\n",
        "  criterion = nn.CrossEntropyLoss()\n",
        "  optimizer = AdamW(model.parameters(), lr=1e-3)\n",
        "  scheduler = get_cosine_schedule_with_warmup(optimizer, warmup_steps, total_steps)\n",
        "  print(f\"[Info]: Finish creating model!\",flush = True)\n",
        "\n",
        "  best_accuracy = -1.0\n",
        "  best_state_dict = None\n",
        "\n",
        "  pbar = tqdm(total=valid_steps, ncols=0, desc=\"Train\", unit=\" step\")\n",
        "\n",
        "  for step in range(total_steps):\n",
        "    # Get data\n",
        "    try:\n",
        "      batch = next(train_iterator)\n",
        "    except StopIteration:\n",
        "      train_iterator = iter(train_loader)\n",
        "      batch = next(train_iterator)\n",
        "\n",
        "    loss, accuracy = model_fn(batch, model, criterion, device)\n",
        "    batch_loss = loss.item()\n",
        "    batch_accuracy = accuracy.item()\n",
        "\n",
        "    # Updata model\n",
        "    loss.backward()\n",
        "    optimizer.step()\n",
        "    scheduler.step()\n",
        "    optimizer.zero_grad()\n",
        "    \n",
        "    # Log\n",
        "    pbar.update()\n",
        "    pbar.set_postfix(\n",
        "      loss=f\"{batch_loss:.2f}\",\n",
        "      accuracy=f\"{batch_accuracy:.2f}\",\n",
        "      step=step + 1,\n",
        "    )\n",
        "\n",
        "    # Do validation\n",
        "    if (step + 1) % valid_steps == 0:\n",
        "      pbar.close()\n",
        "\n",
        "      valid_accuracy = valid(valid_loader, model, criterion, device)\n",
        "\n",
        "      # keep the best model\n",
        "      if valid_accuracy > best_accuracy:\n",
        "        best_accuracy = valid_accuracy\n",
        "        best_state_dict = model.state_dict()\n",
        "\n",
        "      pbar = tqdm(total=valid_steps, ncols=0, desc=\"Train\", unit=\" step\")\n",
        "\n",
        "    # Save the best model so far.\n",
        "    if (step + 1) % save_steps == 0 and best_state_dict is not None:\n",
        "      torch.save(best_state_dict, save_path)\n",
        "      pbar.write(f\"Step {step + 1}, best model saved. (accuracy={best_accuracy:.4f})\")\n",
        "\n",
        "  pbar.close()\n",
        "\n",
        "\n",
        "if __name__ == \"__main__\":\n",
        "  main(**parse_args())\n"
      ]
    },
    {
      "cell_type": "markdown",
      "metadata": {
        "id": "0R2rx3AyHpQ-"
      },
      "source": [
        "# Inference"
      ]
    },
    {
      "cell_type": "markdown",
      "metadata": {
        "id": "pSuI3WY9Fz78"
      },
      "source": [
        "## Dataset of inference"
      ]
    },
    {
      "cell_type": "code",
      "execution_count": 12,
      "metadata": {
        "id": "4evns0055Dsx"
      },
      "outputs": [],
      "source": [
        "import os\n",
        "import json\n",
        "import torch\n",
        "from pathlib import Path\n",
        "from torch.utils.data import Dataset\n",
        "\n",
        "\n",
        "class InferenceDataset(Dataset):\n",
        "  def __init__(self, data_dir):\n",
        "    testdata_path = Path(data_dir) / \"testdata.json\"\n",
        "    metadata = json.load(testdata_path.open())\n",
        "    self.data_dir = data_dir\n",
        "    self.data = metadata[\"utterances\"]\n",
        "\n",
        "  def __len__(self):\n",
        "    return len(self.data)\n",
        "\n",
        "  def __getitem__(self, index):\n",
        "    utterance = self.data[index]\n",
        "    feat_path = utterance[\"feature_path\"]\n",
        "    mel = torch.load(os.path.join(self.data_dir, feat_path))\n",
        "\n",
        "    return feat_path, mel\n",
        "\n",
        "\n",
        "def inference_collate_batch(batch):\n",
        "  \"\"\"Collate a batch of data.\"\"\"\n",
        "  feat_paths, mels = zip(*batch)\n",
        "\n",
        "  return feat_paths, torch.stack(mels)\n"
      ]
    },
    {
      "cell_type": "markdown",
      "metadata": {
        "id": "oAinHBG1GIWv"
      },
      "source": [
        "## Main funcrion of Inference"
      ]
    },
    {
      "cell_type": "code",
      "execution_count": 13,
      "metadata": {
        "id": "yQaTt7VDHoRI",
        "colab": {
          "base_uri": "https://localhost:8080/",
          "height": 157,
          "referenced_widgets": [
            "1fb4cae2e31a43e0ba56fabd8c4c3d2c",
            "7eaaebe7119343ac81567772a4cba22f",
            "79a903cf50d144ef9faf7f73f311b15d",
            "fc7e16d7ce33413e9ce362ff6d206014",
            "8ec891cc6cf14f488fd2dfd0b857a2de",
            "b9726bf90c814e6b8732b51fdea33efd",
            "5ba9e4fbd68447aeb6592d3606f8156d",
            "5b24a9121d6d4e71a3486c07f122d0d3",
            "d2b89717d323404b935c2bca7dd86f65",
            "f8d9243555454473a1df3f6a3e067348",
            "d9f7ee1a335047038a7aad76463e12a4"
          ]
        },
        "outputId": "1e9057ce-3b2a-4a4a-d48f-db43d241785b"
      },
      "outputs": [
        {
          "output_type": "stream",
          "name": "stdout",
          "text": [
            "[Info]: Use cuda now!\n",
            "[Info]: Finish loading data!\n",
            "[Info]: Finish creating model!\n"
          ]
        },
        {
          "output_type": "stream",
          "name": "stderr",
          "text": [
            "/usr/local/lib/python3.7/dist-packages/torch/utils/data/dataloader.py:481: UserWarning: This DataLoader will create 8 worker processes in total. Our suggested max number of worker in current system is 2, which is smaller than what this DataLoader is going to create. Please be aware that excessive worker creation might get DataLoader running slow or even freeze, lower the worker number to avoid potential slowness/freeze if necessary.\n",
            "  cpuset_checked))\n"
          ]
        },
        {
          "output_type": "display_data",
          "data": {
            "text/plain": [
              "  0%|          | 0/6000 [00:00<?, ?it/s]"
            ],
            "application/vnd.jupyter.widget-view+json": {
              "version_major": 2,
              "version_minor": 0,
              "model_id": "1fb4cae2e31a43e0ba56fabd8c4c3d2c"
            }
          },
          "metadata": {}
        }
      ],
      "source": [
        "import json\n",
        "import csv\n",
        "from pathlib import Path\n",
        "from tqdm.notebook import tqdm\n",
        "\n",
        "import torch\n",
        "from torch.utils.data import DataLoader\n",
        "\n",
        "def parse_args():\n",
        "  \"\"\"arguments\"\"\"\n",
        "  config = {\n",
        "    \"data_dir\": \"./Dataset\",\n",
        "    \"model_path\": \"./model.ckpt\",\n",
        "    \"output_path\": \"./output.csv\",\n",
        "  }\n",
        "\n",
        "  return config\n",
        "\n",
        "\n",
        "def main(\n",
        "  data_dir,\n",
        "  model_path,\n",
        "  output_path,\n",
        "):\n",
        "  \"\"\"Main function.\"\"\"\n",
        "  device = torch.device(\"cuda\" if torch.cuda.is_available() else \"cpu\")\n",
        "  print(f\"[Info]: Use {device} now!\")\n",
        "\n",
        "  mapping_path = Path(data_dir) / \"mapping.json\"\n",
        "  mapping = json.load(mapping_path.open())\n",
        "\n",
        "  dataset = InferenceDataset(data_dir)\n",
        "  dataloader = DataLoader(\n",
        "    dataset,\n",
        "    batch_size=1,\n",
        "    shuffle=False,\n",
        "    drop_last=False,\n",
        "    num_workers=8,\n",
        "    collate_fn=inference_collate_batch,\n",
        "  )\n",
        "  print(f\"[Info]: Finish loading data!\",flush = True)\n",
        "\n",
        "  speaker_num = len(mapping[\"id2speaker\"])\n",
        "  model = Classifier(n_spks=speaker_num).to(device)\n",
        "  model.load_state_dict(torch.load(model_path))\n",
        "  model.eval()\n",
        "  print(f\"[Info]: Finish creating model!\",flush = True)\n",
        "\n",
        "  results = [[\"Id\", \"Category\"]]\n",
        "  for feat_paths, mels in tqdm(dataloader):\n",
        "    with torch.no_grad():\n",
        "      mels = mels.to(device)\n",
        "      outs = model(mels)\n",
        "      preds = outs.argmax(1).cpu().numpy()\n",
        "      for feat_path, pred in zip(feat_paths, preds):\n",
        "        results.append([feat_path, mapping[\"id2speaker\"][str(pred)]])\n",
        "  \n",
        "  with open(output_path, 'w', newline='') as csvfile:\n",
        "    writer = csv.writer(csvfile)\n",
        "    writer.writerows(results)\n",
        "\n",
        "\n",
        "if __name__ == \"__main__\":\n",
        "  main(**parse_args())\n"
      ]
    }
  ],
  "metadata": {
    "accelerator": "GPU",
    "colab": {
      "collapsed_sections": [],
      "name": "Self_attention.ipynb",
      "provenance": []
    },
    "interpreter": {
      "hash": "0e963d61ae5592af78c1a29f643d857bd502442649449ec5cf61b348680e7239"
    },
    "kernelspec": {
      "display_name": "Python 3.9.10 ('dl')",
      "language": "python",
      "name": "python3"
    },
    "language_info": {
      "codemirror_mode": {
        "name": "ipython",
        "version": 3
      },
      "file_extension": ".py",
      "mimetype": "text/x-python",
      "name": "python",
      "nbconvert_exporter": "python",
      "pygments_lexer": "ipython3",
      "version": "3.9.10"
    },
    "widgets": {
      "application/vnd.jupyter.widget-state+json": {
        "1fb4cae2e31a43e0ba56fabd8c4c3d2c": {
          "model_module": "@jupyter-widgets/controls",
          "model_name": "HBoxModel",
          "model_module_version": "1.5.0",
          "state": {
            "_dom_classes": [],
            "_model_module": "@jupyter-widgets/controls",
            "_model_module_version": "1.5.0",
            "_model_name": "HBoxModel",
            "_view_count": null,
            "_view_module": "@jupyter-widgets/controls",
            "_view_module_version": "1.5.0",
            "_view_name": "HBoxView",
            "box_style": "",
            "children": [
              "IPY_MODEL_7eaaebe7119343ac81567772a4cba22f",
              "IPY_MODEL_79a903cf50d144ef9faf7f73f311b15d",
              "IPY_MODEL_fc7e16d7ce33413e9ce362ff6d206014"
            ],
            "layout": "IPY_MODEL_8ec891cc6cf14f488fd2dfd0b857a2de"
          }
        },
        "7eaaebe7119343ac81567772a4cba22f": {
          "model_module": "@jupyter-widgets/controls",
          "model_name": "HTMLModel",
          "model_module_version": "1.5.0",
          "state": {
            "_dom_classes": [],
            "_model_module": "@jupyter-widgets/controls",
            "_model_module_version": "1.5.0",
            "_model_name": "HTMLModel",
            "_view_count": null,
            "_view_module": "@jupyter-widgets/controls",
            "_view_module_version": "1.5.0",
            "_view_name": "HTMLView",
            "description": "",
            "description_tooltip": null,
            "layout": "IPY_MODEL_b9726bf90c814e6b8732b51fdea33efd",
            "placeholder": "​",
            "style": "IPY_MODEL_5ba9e4fbd68447aeb6592d3606f8156d",
            "value": "100%"
          }
        },
        "79a903cf50d144ef9faf7f73f311b15d": {
          "model_module": "@jupyter-widgets/controls",
          "model_name": "FloatProgressModel",
          "model_module_version": "1.5.0",
          "state": {
            "_dom_classes": [],
            "_model_module": "@jupyter-widgets/controls",
            "_model_module_version": "1.5.0",
            "_model_name": "FloatProgressModel",
            "_view_count": null,
            "_view_module": "@jupyter-widgets/controls",
            "_view_module_version": "1.5.0",
            "_view_name": "ProgressView",
            "bar_style": "success",
            "description": "",
            "description_tooltip": null,
            "layout": "IPY_MODEL_5b24a9121d6d4e71a3486c07f122d0d3",
            "max": 6000,
            "min": 0,
            "orientation": "horizontal",
            "style": "IPY_MODEL_d2b89717d323404b935c2bca7dd86f65",
            "value": 6000
          }
        },
        "fc7e16d7ce33413e9ce362ff6d206014": {
          "model_module": "@jupyter-widgets/controls",
          "model_name": "HTMLModel",
          "model_module_version": "1.5.0",
          "state": {
            "_dom_classes": [],
            "_model_module": "@jupyter-widgets/controls",
            "_model_module_version": "1.5.0",
            "_model_name": "HTMLModel",
            "_view_count": null,
            "_view_module": "@jupyter-widgets/controls",
            "_view_module_version": "1.5.0",
            "_view_name": "HTMLView",
            "description": "",
            "description_tooltip": null,
            "layout": "IPY_MODEL_f8d9243555454473a1df3f6a3e067348",
            "placeholder": "​",
            "style": "IPY_MODEL_d9f7ee1a335047038a7aad76463e12a4",
            "value": " 6000/6000 [00:25&lt;00:00, 249.91it/s]"
          }
        },
        "8ec891cc6cf14f488fd2dfd0b857a2de": {
          "model_module": "@jupyter-widgets/base",
          "model_name": "LayoutModel",
          "model_module_version": "1.2.0",
          "state": {
            "_model_module": "@jupyter-widgets/base",
            "_model_module_version": "1.2.0",
            "_model_name": "LayoutModel",
            "_view_count": null,
            "_view_module": "@jupyter-widgets/base",
            "_view_module_version": "1.2.0",
            "_view_name": "LayoutView",
            "align_content": null,
            "align_items": null,
            "align_self": null,
            "border": null,
            "bottom": null,
            "display": null,
            "flex": null,
            "flex_flow": null,
            "grid_area": null,
            "grid_auto_columns": null,
            "grid_auto_flow": null,
            "grid_auto_rows": null,
            "grid_column": null,
            "grid_gap": null,
            "grid_row": null,
            "grid_template_areas": null,
            "grid_template_columns": null,
            "grid_template_rows": null,
            "height": null,
            "justify_content": null,
            "justify_items": null,
            "left": null,
            "margin": null,
            "max_height": null,
            "max_width": null,
            "min_height": null,
            "min_width": null,
            "object_fit": null,
            "object_position": null,
            "order": null,
            "overflow": null,
            "overflow_x": null,
            "overflow_y": null,
            "padding": null,
            "right": null,
            "top": null,
            "visibility": null,
            "width": null
          }
        },
        "b9726bf90c814e6b8732b51fdea33efd": {
          "model_module": "@jupyter-widgets/base",
          "model_name": "LayoutModel",
          "model_module_version": "1.2.0",
          "state": {
            "_model_module": "@jupyter-widgets/base",
            "_model_module_version": "1.2.0",
            "_model_name": "LayoutModel",
            "_view_count": null,
            "_view_module": "@jupyter-widgets/base",
            "_view_module_version": "1.2.0",
            "_view_name": "LayoutView",
            "align_content": null,
            "align_items": null,
            "align_self": null,
            "border": null,
            "bottom": null,
            "display": null,
            "flex": null,
            "flex_flow": null,
            "grid_area": null,
            "grid_auto_columns": null,
            "grid_auto_flow": null,
            "grid_auto_rows": null,
            "grid_column": null,
            "grid_gap": null,
            "grid_row": null,
            "grid_template_areas": null,
            "grid_template_columns": null,
            "grid_template_rows": null,
            "height": null,
            "justify_content": null,
            "justify_items": null,
            "left": null,
            "margin": null,
            "max_height": null,
            "max_width": null,
            "min_height": null,
            "min_width": null,
            "object_fit": null,
            "object_position": null,
            "order": null,
            "overflow": null,
            "overflow_x": null,
            "overflow_y": null,
            "padding": null,
            "right": null,
            "top": null,
            "visibility": null,
            "width": null
          }
        },
        "5ba9e4fbd68447aeb6592d3606f8156d": {
          "model_module": "@jupyter-widgets/controls",
          "model_name": "DescriptionStyleModel",
          "model_module_version": "1.5.0",
          "state": {
            "_model_module": "@jupyter-widgets/controls",
            "_model_module_version": "1.5.0",
            "_model_name": "DescriptionStyleModel",
            "_view_count": null,
            "_view_module": "@jupyter-widgets/base",
            "_view_module_version": "1.2.0",
            "_view_name": "StyleView",
            "description_width": ""
          }
        },
        "5b24a9121d6d4e71a3486c07f122d0d3": {
          "model_module": "@jupyter-widgets/base",
          "model_name": "LayoutModel",
          "model_module_version": "1.2.0",
          "state": {
            "_model_module": "@jupyter-widgets/base",
            "_model_module_version": "1.2.0",
            "_model_name": "LayoutModel",
            "_view_count": null,
            "_view_module": "@jupyter-widgets/base",
            "_view_module_version": "1.2.0",
            "_view_name": "LayoutView",
            "align_content": null,
            "align_items": null,
            "align_self": null,
            "border": null,
            "bottom": null,
            "display": null,
            "flex": null,
            "flex_flow": null,
            "grid_area": null,
            "grid_auto_columns": null,
            "grid_auto_flow": null,
            "grid_auto_rows": null,
            "grid_column": null,
            "grid_gap": null,
            "grid_row": null,
            "grid_template_areas": null,
            "grid_template_columns": null,
            "grid_template_rows": null,
            "height": null,
            "justify_content": null,
            "justify_items": null,
            "left": null,
            "margin": null,
            "max_height": null,
            "max_width": null,
            "min_height": null,
            "min_width": null,
            "object_fit": null,
            "object_position": null,
            "order": null,
            "overflow": null,
            "overflow_x": null,
            "overflow_y": null,
            "padding": null,
            "right": null,
            "top": null,
            "visibility": null,
            "width": null
          }
        },
        "d2b89717d323404b935c2bca7dd86f65": {
          "model_module": "@jupyter-widgets/controls",
          "model_name": "ProgressStyleModel",
          "model_module_version": "1.5.0",
          "state": {
            "_model_module": "@jupyter-widgets/controls",
            "_model_module_version": "1.5.0",
            "_model_name": "ProgressStyleModel",
            "_view_count": null,
            "_view_module": "@jupyter-widgets/base",
            "_view_module_version": "1.2.0",
            "_view_name": "StyleView",
            "bar_color": null,
            "description_width": ""
          }
        },
        "f8d9243555454473a1df3f6a3e067348": {
          "model_module": "@jupyter-widgets/base",
          "model_name": "LayoutModel",
          "model_module_version": "1.2.0",
          "state": {
            "_model_module": "@jupyter-widgets/base",
            "_model_module_version": "1.2.0",
            "_model_name": "LayoutModel",
            "_view_count": null,
            "_view_module": "@jupyter-widgets/base",
            "_view_module_version": "1.2.0",
            "_view_name": "LayoutView",
            "align_content": null,
            "align_items": null,
            "align_self": null,
            "border": null,
            "bottom": null,
            "display": null,
            "flex": null,
            "flex_flow": null,
            "grid_area": null,
            "grid_auto_columns": null,
            "grid_auto_flow": null,
            "grid_auto_rows": null,
            "grid_column": null,
            "grid_gap": null,
            "grid_row": null,
            "grid_template_areas": null,
            "grid_template_columns": null,
            "grid_template_rows": null,
            "height": null,
            "justify_content": null,
            "justify_items": null,
            "left": null,
            "margin": null,
            "max_height": null,
            "max_width": null,
            "min_height": null,
            "min_width": null,
            "object_fit": null,
            "object_position": null,
            "order": null,
            "overflow": null,
            "overflow_x": null,
            "overflow_y": null,
            "padding": null,
            "right": null,
            "top": null,
            "visibility": null,
            "width": null
          }
        },
        "d9f7ee1a335047038a7aad76463e12a4": {
          "model_module": "@jupyter-widgets/controls",
          "model_name": "DescriptionStyleModel",
          "model_module_version": "1.5.0",
          "state": {
            "_model_module": "@jupyter-widgets/controls",
            "_model_module_version": "1.5.0",
            "_model_name": "DescriptionStyleModel",
            "_view_count": null,
            "_view_module": "@jupyter-widgets/base",
            "_view_module_version": "1.2.0",
            "_view_name": "StyleView",
            "description_width": ""
          }
        }
      }
    }
  },
  "nbformat": 4,
  "nbformat_minor": 0
}